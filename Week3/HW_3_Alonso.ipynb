{
 "cells": [
  {
   "cell_type": "markdown",
   "metadata": {},
   "source": [
    "# IST736 Text Mining\n",
    "## Homework 3 \n",
    "### Martin Alonso\n",
    "### 2019-01-31"
   ]
  },
  {
   "cell_type": "markdown",
   "metadata": {},
   "source": [
    "For this assignment, I will be creating a text corpus based on the work of my friend Russell Carlton. With his permission, I have downloaded nine articles he has written over the past decade for the website Baseball Prospectus.  \n",
    "The corpus will be created using the NLTK package and, after creation, I will vectorize the documents and explore any trends that may appear over his work.  "
   ]
  },
  {
   "cell_type": "markdown",
   "metadata": {},
   "source": [
    "#### Loading the packages and creating the corpus\n",
    "I'll first load the packages that will be used, starting with NLTK, Pandas, and Numpy. I'll also load Matplotlib and Seaborn for graphing the corpus. "
   ]
  },
  {
   "cell_type": "code",
   "execution_count": 98,
   "metadata": {},
   "outputs": [
    {
     "name": "stderr",
     "output_type": "stream",
     "text": [
      "[nltk_data] Downloading package punkt to /home/martin/nltk_data...\n",
      "[nltk_data]   Package punkt is already up-to-date!\n",
      "[nltk_data] Downloading package stopwords to /home/martin/nltk_data...\n",
      "[nltk_data]   Unzipping corpora/stopwords.zip.\n"
     ]
    },
    {
     "data": {
      "text/plain": [
       "True"
      ]
     },
     "execution_count": 98,
     "metadata": {},
     "output_type": "execute_result"
    }
   ],
   "source": [
    "# Packages to be used.\n",
    "import os\n",
    "import nltk\n",
    "from nltk.corpus import stopwords\n",
    "from nltk.corpus.reader.plaintext import PlaintextCorpusReader\n",
    "from nltk.stem.snowball import EnglishStemmer\n",
    "from sklearn.feature_extraction.text import TfidfVectorizer\n",
    "import re \n",
    "import pandas as pd\n",
    "import numpy as np \n",
    "import matplotlib.pyplot as plt\n",
    "import seaborn as sns\n",
    "import collections\n",
    "\n",
    "# Downloads nltk packages\n",
    "nltk.download('punkt')\n",
    "nltk.download('stopwords')"
   ]
  },
  {
   "cell_type": "markdown",
   "metadata": {},
   "source": [
    "Now that the packages have been loaded, I'll use NLTK's PlaintextCorpusReader to load the text files into Python. Once these texts are loaded, a new corpus can be created using the nine documents. These can then be analyzed as words, sentences, paragraphs, or as a whole.  "
   ]
  },
  {
   "cell_type": "code",
   "execution_count": 5,
   "metadata": {},
   "outputs": [],
   "source": [
    "# Designate the folder directory where the texts are located and load them into the notebook. \n",
    "# Sets the directory where the files are stored for easy acces. \n",
    "corpus_dir = 'Corpus/'\n",
    "\n",
    "# Passes the files in the directory into a new corpus that can then be parsed and studied. \n",
    "new_corpus = PlaintextCorpusReader(corpus_dir, '*.txt')"
   ]
  },
  {
   "cell_type": "code",
   "execution_count": 22,
   "metadata": {},
   "outputs": [
    {
     "name": "stdout",
     "output_type": "stream",
     "text": [
      "['Russel2.txt', 'Russel4.txt', 'Russel1.txt', 'Russel9.txt', 'Russel6.txt', 'Russel8.txt', 'Russel3.txt', 'Russel7.txt', 'Russel5.txt']\n"
     ]
    }
   ],
   "source": [
    "# Creates an array where the file names are stored for easy access. \n",
    "texts = []\n",
    "for file in os.listdir(corpus_dir):\n",
    "    texts.append(file)\n",
    "    \n",
    "print(texts)"
   ]
  },
  {
   "cell_type": "code",
   "execution_count": 54,
   "metadata": {},
   "outputs": [
    {
     "name": "stdout",
     "output_type": "stream",
     "text": [
      "Russel2.txt : 2328\n",
      "Russel4.txt : 2276\n",
      "Russel1.txt : 1496\n",
      "Russel9.txt : 1784\n",
      "Russel6.txt : 1847\n",
      "Russel8.txt : 4438\n",
      "Russel3.txt : 960\n",
      "Russel7.txt : 4430\n",
      "Russel5.txt : 2537\n",
      "Avg Word Count: 2455\n",
      "Total Word Count: 22096\n"
     ]
    }
   ],
   "source": [
    "# Creates two empty arrays that will store word counts and words for each text in the corpora. \n",
    "word_counts = []\n",
    "word_corpus = []\n",
    "\n",
    "# Iterates over every item in the texts array to print the word count of each text in the corpora. \n",
    "for file in texts:\n",
    "    file_length = len(new_corpus.words(file))\n",
    "    words = new_corpus.words(file)\n",
    "    word_counts.append(file_length)\n",
    "    word_corpus = np.concatenate([word_corpus, words]) # Word corpus needs to be concatenated, otherwise a list is created. \n",
    "    print(file, ': %d' % file_length)\n",
    "    \n",
    "# Prints the average number of words across the corpora. \n",
    "print('Avg Word Count: %d' % np.mean(word_counts))\n",
    "print('Total Word Count: %d' % len(word_corpus))"
   ]
  },
  {
   "cell_type": "markdown",
   "metadata": {},
   "source": [
    "A few interesting things to note before we move on. First off, there are over 22,000 words in these nine documents, including stop words. The average number of words is 2,455, though the data set may be slightly skewed on account of there being to texts with word counts over 4,400. The smallest, or briefest, text has only 960 words.  \n",
    "\n",
    "Now that the documents have been loaded, the corpus has been created and we know how many words there are in total, we can begin to analyze the corpus. First of, English stop words will be removed; after that, the remaining words in the corpus will be vectorized and stemmed.  \n",
    "To begin, let's check the list of the most common words in the corpus. "
   ]
  },
  {
   "cell_type": "code",
   "execution_count": 95,
   "metadata": {},
   "outputs": [
    {
     "name": "stdout",
     "output_type": "stream",
     "text": [
      "the : 1089\n",
      "a : 526\n",
      "to : 503\n",
      "that : 477\n",
      "of : 418\n",
      "and : 314\n",
      "in : 304\n",
      "it : 268\n",
      "is : 216\n",
      "s : 210\n",
      "for : 205\n",
      "i : 188\n",
      "we : 165\n",
      "but : 150\n",
      "on : 145\n",
      "you : 145\n",
      "t : 118\n",
      "at : 117\n",
      "be : 115\n",
      "there : 113\n"
     ]
    },
    {
     "data": {
      "text/plain": [
       "<matplotlib.axes._subplots.AxesSubplot at 0x7f6a52fec438>"
      ]
     },
     "execution_count": 95,
     "metadata": {},
     "output_type": "execute_result"
    },
    {
     "data": {
      "image/png": "[encoded data removed]",
      "text/plain": [
       "<Figure size 432x288 with 1 Axes>"
      ]
     },
     "metadata": {
      "needs_background": "light"
     },
     "output_type": "display_data"
    }
   ],
   "source": [
    "# Initialize a dictionary. \n",
    "wordcount = {}\n",
    "\n",
    "# Iterate over the word corpus to remove special characters that may muddy the data. \n",
    "for word in word_corpus:\n",
    "    word = re.sub('[\\W\\_]', '', word).lower()\n",
    "    if word not in wordcount:\n",
    "        wordcount[word] = 1\n",
    "    else:\n",
    "        wordcount[word] += 1\n",
    "\n",
    "# Because special characters have been replaced with '', '' will need to be removed from the wordcount\n",
    "# dictionary so as to not skew the data.\n",
    "wordcount.pop('', None)\n",
    "\n",
    "# Print the 20 most common words. \n",
    "n_print = 20            \n",
    "word_counter = collections.Counter(wordcount)\n",
    "for word, count in word_counter.most_common(n_print):\n",
    "    print(word, \": %d\" % count)\n",
    "\n",
    "# Create a data frame of the most common words \n",
    "# Draw a bar chart\n",
    "lst = word_counter.most_common(n_print)\n",
    "df = pd.DataFrame(lst, columns = ['Word', 'Count'])\n",
    "df.plot.bar(x='Word',y='Count')"
   ]
  },
  {
   "cell_type": "markdown",
   "metadata": {},
   "source": [
    "Of course, this is cheating. No stop words have been removed from the data set, skewing the corpus word frequency. 'The' is used over one thousand times across the entire corpus, along with 'a', 'to', 'that', and so forth. If we were to remove stop words from this dictionary, the term frequency would be vastly different. Let's check word frequency after removing stop words. "
   ]
  },
  {
   "cell_type": "code",
   "execution_count": 101,
   "metadata": {},
   "outputs": [
    {
     "name": "stdout",
     "output_type": "stream",
     "text": [
      "would : 75\n",
      "game : 69\n",
      "shift : 69\n",
      "first : 65\n",
      "time : 64\n",
      "one : 60\n",
      "players : 58\n",
      "get : 51\n",
      "games : 49\n",
      "might : 48\n",
      "balls : 46\n",
      "5 : 44\n",
      "baseball : 43\n",
      "going : 41\n",
      "1 : 41\n",
      "ball : 41\n",
      "play : 40\n",
      "see : 39\n",
      "even : 38\n",
      "two : 37\n",
      "way : 37\n",
      "like : 37\n",
      "left : 36\n",
      "make : 35\n",
      "little : 35\n"
     ]
    },
    {
     "data": {
      "text/plain": [
       "<matplotlib.axes._subplots.AxesSubplot at 0x7f6a52e5d3c8>"
      ]
     },
     "execution_count": 101,
     "metadata": {},
     "output_type": "execute_result"
    },
    {
     "data": {
      "image/png": "[encoded data removed]",
      "text/plain": [
       "<Figure size 432x288 with 1 Axes>"
      ]
     },
     "metadata": {
      "needs_background": "light"
     },
     "output_type": "display_data"
    }
   ],
   "source": [
    "# Initiate English stop words\n",
    "stop = stopwords.words('english')\n",
    "\n",
    "wordcount2 = wordcount\n",
    "\n",
    "for s in stop: \n",
    "    wordcount2.pop(s, None)\n",
    "    \n",
    "# Print the 20 most common words. \n",
    "n_print = 25         \n",
    "word_counter = collections.Counter(wordcount2)\n",
    "for word, count in word_counter.most_common(n_print):\n",
    "    print(word, \": %d\" % count)\n",
    "\n",
    "# Create a data frame of the most common words \n",
    "# Draw a bar chart\n",
    "lst = word_counter.most_common(n_print)\n",
    "df = pd.DataFrame(lst, columns = ['Word', 'Count'])\n",
    "df.plot.bar(x='Word',y='Count')\n"
   ]
  },
  {
   "cell_type": "code",
   "execution_count": 56,
   "metadata": {},
   "outputs": [],
   "source": [
    "# Initialize vectorizer.\n",
    "vectorizer = TfidfVectorizer()\n",
    "responses = []\n",
    "for file in texts:\n",
    "    text = new_corpus.words(file)\n",
    "    response = vectorizer.fit_transform(text)\n",
    "    responses.append(response)"
   ]
  },
  {
   "cell_type": "code",
   "execution_count": 57,
   "metadata": {},
   "outputs": [
    {
     "name": "stdout",
     "output_type": "stream",
     "text": [
      "[<2328x683 sparse matrix of type '<class 'numpy.float64'>'\n",
      "\twith 1904 stored elements in Compressed Sparse Row format>, <2276x631 sparse matrix of type '<class 'numpy.float64'>'\n",
      "\twith 1773 stored elements in Compressed Sparse Row format>, <1496x453 sparse matrix of type '<class 'numpy.float64'>'\n",
      "\twith 1205 stored elements in Compressed Sparse Row format>, <1784x464 sparse matrix of type '<class 'numpy.float64'>'\n",
      "\twith 1441 stored elements in Compressed Sparse Row format>, <1847x545 sparse matrix of type '<class 'numpy.float64'>'\n",
      "\twith 1514 stored elements in Compressed Sparse Row format>, <4438x861 sparse matrix of type '<class 'numpy.float64'>'\n",
      "\twith 3416 stored elements in Compressed Sparse Row format>, <960x333 sparse matrix of type '<class 'numpy.float64'>'\n",
      "\twith 770 stored elements in Compressed Sparse Row format>, <4430x935 sparse matrix of type '<class 'numpy.float64'>'\n",
      "\twith 3411 stored elements in Compressed Sparse Row format>, <2537x646 sparse matrix of type '<class 'numpy.float64'>'\n",
      "\twith 2047 stored elements in Compressed Sparse Row format>]\n"
     ]
    }
   ],
   "source": [
    "print(responses)"
   ]
  },
  {
   "cell_type": "code",
   "execution_count": 94,
   "metadata": {},
   "outputs": [
    {
     "name": "stdout",
     "output_type": "stream",
     "text": [
      "{'baseball': 43, 'therapy': 8, 'is': 216, 'there': 113, 'really': 30, 'racism': 6, 'in': 304, 'the': 1089, 'broadcast': 4, 'booth': 4, 'russell': 10, 'a': 526, 'carleton': 9, 'september': 2, '5': 44, '2012': 2, 'last': 17, 'week': 17, 'atlantic': 3, 'magazine': 1, 'two': 37, 'researchers': 1, 'published': 1, 'results': 9, 'of': 418, 'study': 5, 'with': 91, 'very': 21, 'unsettling': 1, 'conclusion': 1, 'subtle': 1, 'at': 117, 'work': 10, 'major': 8, 'league': 30, 'idea': 19, 'that': 477, 'caucasian': 5, 'players': 58, 'are': 113, 'more': 76, 'often': 10, 'praised': 1, 'for': 205, 'being': 13, 'gritty': 1, 'and': 314, 'scrappy': 1, 'while': 21, 'african': 6, 'american': 8, 'hispanic': 1, 'asian': 2, 'aren': 9, 't': 118, 'similarly': 2, 'lauded': 1, 'isn': 12, 'new': 19, 'one': 60, 'first': 65, 'time': 64, 'someone': 24, 'decided': 2, 'to': 503, 'put': 8, 'hypothesis': 1, 'an': 57, 'empirical': 1, 'test': 7, 'i': 188, 'used': 8, 'teach': 1, 'intro': 1, 'psych': 1, 'when': 46, 'we': 165, 'got': 19, 'part': 14, 'class': 3, 'on': 145, 'subconscious': 1, 'vs': 2, 'conscious': 2, 'behavior': 5, 'would': 75, 'use': 10, 'as': 80, 'example': 5, 'd': 17, 'start': 10, 'off': 24, 'simple': 6, 'instruction': 1, 'raise': 1, 'your': 22, 'hand': 5, 'if': 100, 'you': 145, 'racist': 2, 'not': 94, 'surprisingly': 3, 'no': 37, 'raised': 1, 'truthfully': 1, 'believed': 1, 'my': 34, 'students': 1, 'abhorred': 1, 'they': 107, 'treat': 2, 'differently': 4, 'basis': 1, 'their': 44, 'race': 3, 'm': 14, 'guessing': 2, 'audience': 2, 'were': 53, 'gathering': 1, 'mlb': 9, 'broadcasters': 6, 'be': 115, 'same': 22, 'believe': 10, 'them': 42, 'too': 10, 'problem': 19, 'human': 6, 'influenced': 2, 'by': 40, 'much': 33, 'than': 55, 'thought': 5, 'person': 4, 's': 210, 'can': 75, 'cues': 1, 'don': 40, 'even': 38, 'recognize': 2, 'this': 85, 'reason': 13, 'business': 4, 'advertising': 1, 'exists': 2, 'companies': 1, 'spend': 4, 'millions': 1, 'figuring': 3, 'out': 63, 'proper': 3, 'shade': 2, 'yellow': 2, 'ads': 2, 'despite': 2, 'fact': 21, 'nothing': 13, 'about': 80, 'color': 1, 'should': 18, 'make': 35, 'product': 2, 'or': 83, 'less': 8, 'appealing': 2, 'lot': 24, 'these': 16, 'messages': 2, 'passed': 5, 'along': 11, 'through': 14, 'simply': 6, 'living': 1, 'culture': 6, 'some': 59, 'delivered': 1, 'directly': 1, 'indirectly': 1, 'but': 150, 'related': 1, 'how': 62, 'might': 48, 'affect': 1, 'picture': 1, 'yourself': 2, 'walking': 3, 'lovely': 1, 'summer': 2, 'afternoon': 1, 'seeing': 2, 'other': 35, 'way': 37, 'whom': 7, 'know': 16, 'who': 68, 'wearing': 1, 'red': 4, 'sox': 4, 'hat': 6, 'what': 81, 'reasonably': 2, 'conclude': 1, 'virtue': 2, 'higher': 2, 'likelihood': 3, 'he': 70, 'was': 78, 'born': 5, 'around': 11, 'boston': 9, 'lives': 2, 'now': 27, 'bet': 2, 'somewhere': 5, 'mind': 4, 'mumbled': 1, 'few': 17, 'words': 8, 'november': 1, '2004': 1, 'maybe': 20, 'something': 32, 'little': 35, 'vulgar': 1, 'affecting': 1, 'pretend': 3, 'it': 268, 'twins': 1, 'see': 39, 'thoughts': 2, 'change': 3, 'our': 18, 'behatted': 1, 'stranger': 1, 'stopped': 4, 'asked': 4, 'directions': 1, 'her': 9, 'him': 26, 'any': 15, 'hopefully': 1, 'thinking': 6, 'different': 14, 'based': 7, 'solely': 1, 'ultimately': 1, 'irrelevant': 1, 'lead': 4, 'differences': 3, 'sort': 8, 'discrimination': 1, 'article': 3, 'talking': 12, 'overt': 1, 'may': 14, 'perceptible': 1, 'instant': 1, 'over': 29, 'builds': 1, 'up': 32, 'critiquing': 1, 'methods': 1, 'authors': 9, 'kind': 3, 'enough': 8, 'send': 2, 'raw': 6, 'data': 26, 'colin': 2, 'wyers': 1, 'me': 28, 'ran': 2, 'secondary': 1, 'analyses': 3, 'which': 28, 'nice': 9, 'say': 28, 'playing': 15, 'else': 9, 'set': 13, 'methodological': 1, 'issues': 2, 'needed': 3, 'ironed': 1, 're': 42, 'logit': 1, 'regression': 8, 'rather': 16, 'ols': 1, 'general': 12, 'variables': 3, 'had': 36, 'previously': 1, 'found': 8, 'significant': 6, 'stayed': 1, 'none': 1, 'came': 2, 'short': 7, 'lots': 1, 'compliments': 1, 'outside': 3, 'united': 6, 'states': 6, 'canada': 3, 'likely': 17, 'get': 51, 'attaboy': 1, 'technical': 1, 'limitations': 1, 'have': 110, 'wish': 2, 'weren': 3, 'single': 8, 'period': 5, 'although': 5, 'given': 6, 'labor': 1, 'goes': 5, 'into': 38, 'coding': 4, 'game': 69, 'understand': 3, 'why': 14, 'however': 8, 'means': 9, 'each': 11, 'player': 32, 'seen': 3, 'only': 43, 'three': 17, 'sets': 2, 'team': 27, 'played': 15, 'series': 3, 'so': 53, 'his': 45, 'those': 41, 'opponents': 1, 'dig': 1, 'findings': 4, 'paneled': 1, 'hierarchical': 1, 'model': 3, 'gee': 1, 'break': 2, 'apart': 1, 'effects': 2, 'individual': 2, 'require': 2, 'larger': 2, 'sample': 17, 'size': 8, 'couple': 5, 'note': 2, 'didn': 9, 'control': 4, 'happened': 11, 'immediately': 1, 'before': 17, 'comment': 1, 'made': 14, 'did': 20, 'just': 37, 'boneheaded': 1, 'play': 40, 'preliminary': 2, 'investigation': 1, 'subject': 2, 'present': 2, 'pretty': 11, 'good': 31, 'showed': 2, 'hustle': 1, 'grit': 1, 'putting': 2, 'together': 2, 'real': 9, 'innovation': 4, 'qualitative': 4, 'has': 42, 'been': 29, 'woefully': 1, 'under': 5, 'sabermetrics': 2, 'talk': 9, 'took': 3, 'august': 4, '2011': 2, 'watched': 1, '200': 2, 'broadcasts': 1, 'games': 49, 'listening': 2, 'announcers': 3, 'discussed': 1, 'terms': 6, 'intangibles': 1, 'many': 9, 'plays': 4, 'done': 6, 'appreciate': 2, 'undertaking': 1, 'do': 51, 'watch': 4, 'strain': 1, 'listen': 2, 'sure': 8, 'hear': 3, 'everything': 10, 'announcer': 3, 'said': 7, 'try': 6, 'inning': 7, 'tonight': 1, 'think': 26, 'reasons': 2, 'point': 14, 'equal': 5, 'parts': 2, 'art': 2, 'science': 1, 'case': 10, 'looking': 15, 'doubles': 5, 'hit': 22, 'well': 23, 'established': 3, 'definition': 6, 'double': 7, 'will': 44, 'always': 18, 'element': 1, 'subjectivity': 1, 'deciding': 4, 'whether': 19, 'says': 7, 'positive': 11, 'negative': 6, 'things': 13, 'obvious': 6, 'smith': 6, 'gets': 13, 'most': 18, 'talent': 5, 'once': 4, 'hard': 15, 'worker': 2, 'talented': 1, 'thousand': 1, 'quibbles': 1, 'project': 1, 'dismiss': 1, 'outright': 1, 'foolish': 1, 'main': 1, 'concern': 2, 'methodology': 2, 'focused': 2, 'ignoring': 2, 'held': 4, 'back': 16, 'coders': 1, 'paid': 2, 'close': 7, 'attention': 4, 'received': 2, 'comments': 6, 'then': 29, 'coded': 1, 'figure': 3, '750': 1, 'roster': 2, 'least': 17, 'yet': 3, 'majority': 2, 'all': 55, 'plenty': 4, 'ways': 2, 'sadly': 1, 'actively': 1, 'hurl': 1, 'insults': 1, 'slurs': 1, 'fired': 1, 'another': 14, 'argue': 6, 'happening': 4, 'quick': 2, 'negatives': 1, 'group': 34, 'positives': 1, 'sins': 1, 'omission': 1, 'happen': 7, 'suppose': 1, 'worked': 5, 'life': 4, 'everyone': 16, 'knows': 2, 'people': 16, 'teams': 27, 'admires': 1, 'ethic': 2, 'fantastic': 1, 'tidbit': 1, 'share': 1, 'air': 2, 'broadcaster': 4, 'swallows': 1, 'seems': 11, 'omit': 1, 'flip': 2, 'side': 13, 'lazy': 1, 'jerk': 1, 'doesn': 12, 'bring': 2, 'logged': 3, 'half': 8, '29': 1, 'percent': 26, 'latino': 2, '20': 7, 'grand': 1, 'total': 2, 'four': 7, 'observe': 1, '62': 1, '27': 1, 'nine': 2, 'greater': 3, 'rate': 12, 'expected': 12, 'demographics': 1, 'hold': 2, 'after': 23, 'taking': 5, 'jim': 1, 'thome': 2, 'carlos': 1, 'zambrano': 2, 'noted': 1, 'press': 2, 'hitting': 6, '600th': 1, 'career': 3, 'hr': 4, 'clubhouse': 1, 'blowout': 1, 'fairness': 1, 'rest': 6, 'felt': 3, 'fine': 4, 'rendering': 1, 'opinions': 1, 'tight': 2, 'lipped': 1, 'un': 1, 'answerable': 1, 'question': 10, 'holding': 1, 'still': 26, 'variable': 5, 'emerged': 3, 'specifically': 2, 'guess': 3, 'annexed': 1, 'purposes': 4, '87': 4, '77': 3, 'countries': 1, 'again': 19, 'both': 7, 'groups': 4, 'within': 3, 'difference': 19, 'fan': 3, 'base': 30, '10': 28, 'percentage': 2, 'points': 7, 'makes': 15, 'between': 19, 'hitter': 8, '300': 6, 'meaning': 1, 'from': 53, 'nativism': 3, 'let': 16, 'aware': 1, 'emotional': 2, 'charge': 1, 'such': 9, 'am': 2, 'loathe': 1, 'apply': 1, 'casually': 1, 'instead': 4, 'suggest': 4, 'going': 41, 'finger': 1, 'box': 2, 'fingers': 1, 'pointing': 3, 'ourselves': 1, 'sad': 2, 'discriminatory': 1, 'attitudes': 1, 'become': 8, 'better': 34, 'identify': 1, 'stamp': 1, 'admit': 1, 'haven': 4, 'conquered': 1, 'own': 6, 'height': 4, 'shed': 1, 'light': 2, 'topic': 1, 'emotionally': 1, 'charged': 1, 'especially': 3, 'among': 2, 'men': 3, 'cultural': 5, 'assumptions': 3, 'go': 22, 'second': 21, 'lied': 1, 'personal': 2, 'erm': 1, 'shall': 2, 'marital': 1, 'status': 1, '1': 41, 'man': 4, 'lie': 1, 'goal': 2, 'ad': 1, 'find': 6, 'partner': 1, 'happy': 2, 'satisfying': 1, 'relationship': 2, 'record': 2, '11': 4, 'married': 3, 'like': 37, 'long': 11, 'walks': 9, 'beach': 1, 'sunset': 1, 'granted': 1, 'context': 1, 'its': 9, 'advantages': 4, 'credit': 3, 'having': 7, 'amazing': 1, 'reaches': 1, 'honest': 1, 'saying': 7, 'embedded': 1, 'eradicate': 1, 'bear': 1, 'responsibility': 1, 'addressing': 2, 'responsible': 2, 'mine': 2, 'looks': 7, 'neither': 2, 'us': 7, 'completely': 4, 'successful': 4, 'presented': 1, 'here': 14, 'counter': 3, 'hypotheses': 1, 'fully': 2, 'ruled': 1, 'because': 42, 'flaws': 2, 'pointed': 2, 'danger': 1, 'lies': 2, 'using': 13, 'ignore': 1, 'suggests': 3, 'introducing': 1, 'daughter': 7, 'june': 1, '3': 30, '2014': 3, 'pardon': 1, 'spreadsheet': 2, 'monday': 1, 'memorial': 2, 'day': 15, 'marking': 1, 'moments': 1, 'take': 22, 'n': 15, 'weeks': 3, 'shy': 1, 'fifth': 3, 'birthday': 1, 'father': 2, 'six': 2, 'year': 34, 'old': 5, 'godnephew': 2, 'p': 5, 'trek': 1, 'turner': 2, 'field': 24, 'interleague': 2, 'tilt': 1, 'atlanta': 3, 'braves': 6, 'went': 5, 'leagues': 2, 'horrifying': 1, 'destroy': 1, 'sanctity': 1, 'turns': 2, 'surely': 1, 'grow': 1, 'world': 4, 'actually': 23, 'planning': 4, 'particular': 2, 'years': 16, 'drives': 11, 'down': 20, 'every': 7, 'weekend': 1, 'attends': 1, 'event': 2, 'university': 1, 'tennessee': 1, 'neighborhood': 2, 'll': 21, 'stop': 4, 'figured': 3, 'perfect': 3, 'breath': 1, 'winter': 1, 'schedule': 1, 'released': 1, 'could': 18, 'easily': 2, 'middle': 7, 'road': 2, 'trip': 2, 'great': 6, 'relief': 1, 'home': 12, 'ask': 4, 'wife': 2, 'she': 19, 'tell': 5, 've': 17, 'dreaming': 1, 'since': 3, 'line': 24, 'turned': 5, 'blue': 16, 'pregnancy': 1, 'right': 32, 'bought': 1, 'sticker': 2, 'album': 1, 'target': 1, 'laughed': 1, 'tried': 6, 'read': 3, 'jhoulys': 1, 'either': 13, 'bits': 1, 'tv': 1, 'whiffle': 1, 'ball': 41, 'front': 10, 'yard': 1, 'misses': 3, 'catch': 4, 'comfort': 1, 'andrelton': 1, 'simmons': 2, 'error': 2, 'bp': 2, 'excited': 1, 'days': 4, 'prospectus': 1, 'probably': 31, 'important': 7, 'already': 13, 'plan': 1, 'pass': 1, 'next': 8, 'generation': 1, 'perhaps': 10, 'story': 2, 'tradition': 4, 'booked': 1, 'tickets': 2, 'upper': 5, 'deck': 5, 'offset': 2, 'plate': 22, 'kid': 3, 'cleveland': 1, 'stadium': 3, 'jacobs': 1, 'sat': 3, 'cheaper': 1, 'loved': 1, 'sitting': 3, 'entire': 3, 'seats': 2, 'wondered': 1, 'transmitting': 1, 'neuroses': 1, 'thing': 13, 'actual': 11, 'themselves': 4, 'look': 22, 'smudges': 1, 'white': 1, 'grey': 1, 'uniforms': 1, 'ever': 11, 'remember': 3, 'sweat': 1, 'indians': 1, 'brewers': 2, '1987': 1, 'sorta': 2, 'paul': 1, 'molitor': 2, 'run': 11, 'streak': 2, '34': 1, 'rows': 1, 'behind': 5, 'dugout': 3, 'cheering': 3, 'extend': 1, 'finished': 1, '39': 1, 'lose': 8, 'focus': 4, 'beings': 1, 'abstractions': 1, 'pieces': 1, 'candy': 1, 'land': 2, 'spring': 2, 'where': 20, 'explain': 4, 'wait': 2, 'until': 7, 'littler': 1, 'older': 2, 'definitely': 1, 'scoreboard': 3, 'numbers': 12, 'fascinated': 1, 'rhe': 1, 'spelled': 1, 'spare': 2, 'lesson': 1, 'batting': 1, 'average': 34, 'bad': 13, 'stat': 1, 'works': 8, 'anyway': 3, 'strange': 2, 'moment': 6, 'existential': 1, 'anxiety': 1, 'indoctrinating': 1, 'sabermetric': 2, 'cult': 1, 'early': 3, 'utero': 1, 'readings': 1, 'moneyball': 2, 'notwithstanding': 1, 'occurs': 1, 'teenager': 1, 'rebel': 1, 'against': 12, 'voting': 11, 'miguel': 1, 'cabrera': 1, 'mvp': 1, 'dad': 4, 'hot': 1, 'dogs': 1, 'yeah': 5, 'need': 25, 'lunch': 1, 'plus': 2, 'footlong': 1, 'hotdog': 1, 'keep': 7, 'quiet': 3, 'innings': 4, 'kept': 3, 'keeps': 2, 'eh': 1, 'footlongs': 1, 'getting': 14, 'hour': 2, 'bit': 8, 'alone': 3, 'ballpark': 2, 'grounds': 1, 'crew': 4, 'water': 2, 'infield': 11, 'dirt': 2, 'certain': 4, 'rhythm': 1, 'experience': 9, 'attending': 2, 'high': 8, 'comes': 3, 'working': 2, 'concourse': 1, 'heading': 1, 'tunnel': 2, 'section': 1, 'glimpse': 1, 'skipped': 1, 'ceremony': 1, 'meant': 4, 'emotion': 3, 'overjoy': 1, 'lost': 5, 'friend': 1, 'forward': 3, 'watching': 1, 'face': 3, 'crossed': 2, 'threshold': 1, 'seem': 12, 'faze': 1, 'job': 5, 'parenting': 1, 'fascinating': 1, 'latched': 1, 'age': 1, 'wanted': 2, 'doing': 9, 'camera': 1, 'somehow': 3, 'ok': 5, 'want': 21, 'win': 5, 'oh': 3, 'guest': 1, 'guys': 23, 'cheer': 1, 'shouting': 1, 'smile': 1, 'knew': 2, 'whole': 2, 'kids': 6, 'sit': 2, 'impressed': 1, 'course': 11, 'kinda': 2, 'enjoyed': 1, 'speeding': 1, 'usually': 7, 'form': 3, 'downtime': 1, 'pitches': 12, 'balls': 46, 'limited': 1, 'spans': 1, 'dealing': 2, 'stable': 1, 'surveyed': 1, '734': 1, 'pace': 3, 'bother': 1, 'clay': 1, 'buchholz': 1, 'handing': 1, 'free': 5, 'passes': 1, 'anyone': 9, 'questions': 2, 'sun': 1, 'grandparent': 1, 'parent': 1, 'bonding': 1, 'quite': 2, 'finding': 2, 'nearest': 1, 'fountain': 1, 'refill': 1, 'cups': 1, 'hydrated': 1, 'wasn': 3, 'realize': 2, 'takes': 4, 'hours': 3, 'during': 5, 'warm': 1, 'muggy': 1, 'best': 19, 'spectator': 1, 'anywhere': 2, 'conditions': 1, 'below': 8, 'freezing': 1, 'temperatures': 1, 'football': 2, 'joy': 1, 'learn': 5, 'sacrifices': 1, 'love': 4, 'never': 12, 'issue': 7, 'thrives': 1, 'constant': 1, 'stimulation': 1, 'spite': 1, 'message': 3, 'wrong': 4, 'constantly': 2, 'boring': 4, 'gentle': 1, 'trot': 1, 'frantic': 1, 'scramble': 1, 'silly': 3, 'song': 1, 'called': 6, 'cotton': 1, 'eyed': 1, 'joe': 1, 'dancing': 1, 'dance': 2, 'ummm': 1, '90s': 3, 'sweetheart': 1, 'songs': 1, 'popular': 1, 'left': 36, 'fourth': 2, 'normally': 2, 'violate': 1, 'rule': 8, 'circumstances': 2, 'leave': 6, 'promise': 1, 'reasonable': 5, 'clear': 2, 'storm': 1, 'clouds': 1, 'bottom': 2, 'built': 1, '6': 8, 'walked': 3, 'away': 8, 'abandoned': 1, 'parking': 1, 'heard': 2, 'top': 5, 'five': 14, 'runs': 20, 'board': 1, 'fans': 6, 'realized': 2, 'leaving': 3, 'began': 1, 'whine': 1, 'explained': 1, 'responded': 3, 'warning': 6, 'basic': 2, 'mathematical': 11, 'details': 5, 'ahead': 6, 'daddy': 2, 'yesterday': 2, 'eight': 1, 'won': 6, 'sweetie': 1, 'today': 5, 'worry': 5, 'pick': 7, 'halladay': 16, 'ultimatum': 3, 'december': 4, '8': 12, '2009': 1, 'flash': 1, 'toronto': 3, 'sports': 2, 'radio': 1, 'show': 6, 'blockbuster': 1, 'deal': 6, 'jays': 18, 'parted': 1, 'former': 3, 'cy': 2, 'young': 3, 'award': 1, 'winner': 2, 'roy': 7, 'trading': 5, 'insert': 3, 'name': 4, 'package': 3, 'prospects': 6, 'including': 2, 'names': 2, 'chippers': 1, 'gm': 1, 'alex': 3, 'anthopolous': 3, 'franchise': 1, 'pitcher': 22, 'heart': 2, 'soul': 1, 'pitching': 4, 'staff': 1, 'several': 2, 'acknowledged': 1, 'able': 7, 'meet': 1, 'asking': 1, 'price': 2, 'agent': 2, 'market': 4, 'trade': 7, 'reaction': 1, 'ed': 3, 'scarborough': 2, 'traded': 1, 'puts': 3, 'ten': 1, 'dollars': 2, 'table': 1, 'propose': 3, 'split': 2, 'money': 2, 'decision': 2, 'accept': 4, 'proposal': 3, 'walk': 13, 'whatever': 5, 'decline': 2, 'proposed': 2, '9': 11, '95': 4, 'lousy': 1, 'nickel': 3, 'though': 3, 'choice': 4, 'perspective': 3, 'sense': 4, 'clearly': 1, 'irrational': 1, 'cling': 1, 'stubborn': 1, 'fariness': 1, 'irrationally': 1, 'rejecting': 1, 'hypothetical': 1, 'offer': 6, 'recounted': 1, 'classic': 1, 'framework': 2, 'theory': 4, 'studied': 1, 'experimentally': 1, 'shocking': 1, 'routinely': 1, 'turn': 4, 'offers': 1, 'fair': 8, 'justice': 1, 'must': 3, 'prevail': 1, 'apparently': 1, 'worth': 15, 'ingrained': 2, 'feel': 4, 'equivalent': 1, 'exactly': 6, 'guy': 17, 'named': 2, 'block': 1, 'establish': 1, 'value': 25, 'return': 3, 'undoubtedly': 1, 'premier': 1, 'starting': 5, 'pitchers': 12, 'worthless': 1, 'sober': 1, 'chances': 10, 'making': 8, '2010': 2, 'playoffs': 4, 'minimal': 2, 'toeing': 1, 'rubber': 2, 'certainly': 5, 'further': 1, 'end': 4, 'season': 12, 'round': 4, 'draft': 3, 'considering': 3, 'big': 6, 'contention': 1, 'deep': 1, 'yes': 11, 'also': 17, 'sandwich': 1, 'personally': 2, 'roast': 1, 'beef': 1, 'hardly': 1, 'compensation': 1, 'caliber': 1, 'cc': 1, 'sabathia': 1, 'debate': 1, 'starter': 2, 'types': 3, 'trades': 1, 'domain': 1, 'fantasy': 1, 'wouldn': 9, 'empty': 1, 'handed': 2, 'risky': 1, 'future': 1, 'ending': 1, 'enter': 3, 'realities': 1, 'revenues': 1, 'agents': 1, 'politely': 1, 'requesting': 1, 'salaries': 1, 'times': 6, 'increasingly': 1, 'reluctant': 1, 'chip': 1, 'minor': 3, 'leaguers': 1, 'cheap': 1, 'source': 1, 'leads': 1, 'place': 9, 'premium': 1, 'offered': 1, 'tier': 1, 'prefer': 1, 'minimum': 2, 'argument': 4, 'grade': 1, 'happens': 5, 'potential': 1, 'partners': 1, 'match': 3, 'bidding': 3, 'default': 1, 'option': 3, 'compensatory': 1, 'type': 1, 'picks': 4, 'process': 4, 'willing': 5, 'bid': 1, 'forces': 1, 'clamp': 1, 'faced': 1, 'low': 4, 'come': 6, 'equaling': 1, 'brings': 2, 'factor': 1, 'elements': 1, 'functionally': 2, 'give': 5, 'rationally': 2, 'assuming': 6, 'waiting': 2, 'compared': 5, 'options': 2, 'available': 3, 'fight': 2, 'appears': 3, 'normal': 1, 'inclination': 1, 'angry': 1, 'star': 1, 'situation': 7, 'regime': 1, 'cliché': 1, 'shaping': 1, 'decisions': 3, 'does': 18, 'rationality': 1, 'feels': 2, 'happier': 1, 'awful': 6, 'running': 3, 'fielders': 19, 'february': 1, '28': 2, '2018': 21, 'missing': 1, 'vocabulary': 1, 'describe': 1, 'word': 2, 'closest': 1, 'cutting': 4, 'gap': 4, 'encompasses': 1, 'estate': 2, 'beginning': 3, 'wisdom': 1, 'conceptualize': 2, 'outfield': 6, 'defense': 18, 'visualize': 1, 'batter': 16, 'smacking': 1, 'clean': 1, 'eludes': 1, 'shortstop': 11, 'third': 14, 'baseman': 10, 'lands': 1, '40': 4, 'feet': 3, 'fielder': 27, 'punish': 1, 'infielders': 7, 'depending': 3, 'fast': 2, 'traveling': 1, 'generally': 5, 'yell': 1, 'alive': 2, 'cover': 2, 'distance': 2, 'sometimes': 4, 'calculations': 1, 'outs': 12, 'undo': 1, 'singled': 1, 'absent': 2, 'oblivious': 1, 'tootblan': 1, 'thrown': 5, 'bases': 2, 'nincompoop': 1, 'forget': 1, 'needs': 7, 'throw': 9, 'past': 5, 'wall': 7, 'jogs': 1, 'effort': 2, 'concedes': 1, 'possibly': 2, 'force': 2, 'instinctively': 1, 'quantify': 1, 'act': 5, 'fielding': 3, 'outfielder': 6, 'figures': 2, 'cases': 4, 'adult': 1, 'tweeners': 3, 'marginal': 1, 'fly': 12, 'outfielders': 1, 'others': 4, 'stay': 2, 'singles': 5, 'registered': 1, 'defensive': 6, 'metrics': 3, 'miss': 1, 'extra': 9, 'picking': 3, 'importantly': 1, 'gory': 4, 'handle': 4, 'easy': 6, 'fielded': 6, 'fell': 2, 'ground': 27, 'gone': 4, 'fence': 1, 'gotten': 5, 'careful': 2, 'ding': 1, 'hits': 7, 'versus': 1, 'boundaries': 1, 'definitions': 4, 'shown': 2, 'nor': 1, 'retrosheet': 2, 'limiting': 1, 'ping': 1, 'estimate': 2, 'number': 10, 'chance': 6, 'cut': 2, 'statcast': 3, 'gives': 3, 'traveled': 2, 'looked': 7, 'mostly': 4, '250': 1, 'center': 15, 'eventually': 10, 'sends': 1, 'thankfully': 1, 'landed': 2, 'empirically': 1, 'derive': 1, 'zones': 1, 'south': 1, 'per': 12, '75': 4, 'letting': 2, 'zone': 5, 'aaron': 1, 'altherr': 1, '89': 2, 'preventing': 1, '50': 10, 'worst': 2, 'matt': 4, 'kemp': 2, '59': 1, 'extremes': 1, 'yikes': 1, '90': 1, 'realistic': 1, '80s': 1, 'horrible': 1, 'ones': 4, '70s': 1, '30': 6, 'account': 3, 'spread': 2, 'artifact': 1, 'small': 11, 'sizes': 2, 'regress': 2, 'toward': 6, 'mean': 6, 'reliability': 1, 'kr': 1, '21': 1, 'formula': 2, 'answer': 6, 'decent': 3, '430': 1, '57': 1, 'observed': 1, 'respectable': 2, '4': 20, 'true': 4, 'opportunities': 1, '12': 7, 'effect': 14, 'bigger': 1, 'edges': 2, 'turning': 8, 'linear': 5, 'weights': 3, '0': 29, 'decently': 2, 'across': 7, 'spots': 3, 'quickly': 1, 'add': 1, 'paying': 2, 'defender': 2, 'swing': 1, 'additional': 2, 'represents': 2, '15': 6, 'accounted': 1, 'correlation': 1, 'standard': 5, 'calculate': 3, 'skill': 11, 'hi': 1, 'admittedly': 1, 'envelope': 1, 'math': 4, 'clarity': 1, 'matter': 5, 'order': 3, 'magnitude': 2, 'possible': 4, 'originally': 1, 'non': 6, 'trivial': 1, 'amount': 4, 'call': 9, 'allowing': 1, 'tired': 6, '22': 4, '2015': 12, 'ago': 2, 'podcast': 1, 'french': 1, 'canadian': 1, 'whose': 3, 'favorite': 1, 'exist': 1, 'anymore': 1, 'interviewing': 1, 'mark': 1, 'mulder': 8, 'harvey': 2, 'pitch': 25, 'coming': 2, 'tommy': 1, 'john': 2, 'surgery': 1, 'health': 3, 'jonah': 2, 'keri': 3, 'fatigue': 4, 'hurt': 4, 'talked': 4, 'mental': 3, 'anything': 4, 'described': 1, 'runners': 6, 'undamaged': 1, 'feeling': 3, 'totally': 2, 'exhausted': 1, 'tension': 1, 'battle': 2, 'lived': 1, 'throwing': 4, 'requires': 2, 'physical': 5, 'exertion': 2, 'body': 4, 'tiredness': 1, 'nervous': 2, 'slept': 1, 'night': 1, 'known': 2, 'state': 3, 'arousal': 2, 'readers': 3, 'familiar': 2, 'flight': 1, 'reflex': 1, 'animals': 1, 'humans': 2, 'naturally': 1, 'key': 2, 'systems': 2, 'pumps': 1, 'faster': 2, 'lungs': 1, 'breathe': 1, 'deeply': 2, 'muscle': 2, 'primed': 1, 'movement': 1, 'senses': 2, 'acute': 1, 'brain': 1, 'starts': 3, 'resources': 2, 'started': 2, 'delivery': 1, 'noticed': 1, 'mistake': 3, 'correct': 3, 'room': 5, 'scoring': 3, 'position': 28, 'scenario': 1, 'rely': 1, 'memory': 1, 'bat': 6, 'finds': 3, 'himself': 5, 'elbow': 1, 'improve': 1, 'automatic': 2, 'suddenly': 3, 'becomes': 2, 'energy': 2, 'draining': 1, 'pondering': 1, 'mojo': 3, 'count': 16, 'climbs': 1, 'created': 2, 'mentally': 3, 'manager': 5, 'airlift': 1, 'earlier': 1, 'otherwise': 3, 'appearances': 10, 'involving': 1, 'prior': 1, 'log': 1, 'odds': 1, 'ratio': 2, 'method': 3, 'controlled': 2, 'stats': 2, 'combine': 1, 'produce': 2, 'outcome': 1, 'interested': 1, 'strikeout': 3, 'etc': 2, 'binary': 2, 'logistic': 2, 'regressions': 1, 'entered': 1, 'ensure': 1, 'symptom': 1, 'counts': 1, 'capture': 1, 'stress': 3, 'addition': 1, 'calculating': 2, 'calculated': 3, 'leveraged': 6, 'leverage': 10, 'index': 5, 'situations': 1, 'intuitively': 1, 'appearance': 7, 'ninth': 2, 'score': 2, 'almost': 2, '2': 33, 'mathematically': 1, 'quantifying': 1, 'produces': 1, 'scalar': 1, 'measure': 2, 'twice': 1, 'proxy': 4, 'increases': 2, 'baserunners': 1, 'create': 2, 'multiplied': 2, 'threw': 3, 'tough': 1, 'entering': 2, 'allowed': 3, 'unadjusted': 2, 'stepwise': 1, 'manner': 1, 'allows': 3, 'program': 1, 'predictor': 1, 'slip': 1, 'predictive': 1, 'power': 2, 'stronger': 1, 'predict': 1, 'worse': 1, 'outcomes': 2, 'claiming': 1, 'victory': 1, 'adjusted': 1, 'secondarily': 1, 'counting': 1, 'failed': 1, 'necessarily': 1, 'strong': 2, 'indicator': 1, 'rough': 2, 'taxing': 1, 'adds': 2, 'possibility': 2, 'respond': 1, 'adrenaline': 1, 'rush': 1, 'facing': 3, 'tricky': 1, 'community': 1, 'fascination': 1, 'analyze': 2, 'detail': 1, 'mound': 1, 'understandable': 1, 'obsessed': 1, 'analyzing': 1, 'level': 14, 'understanding': 1, 'mounds': 1, 'stupid': 1, 'experiences': 1, 'net': 3, 'advantage': 2, 'teammates': 1, 'reflect': 2, 'stressful': 1, 'realization': 1, 'tiring': 2, 'natural': 1, 'gather': 1, 'drink': 1, 'gatorade': 1, 'concentrate': 1, 'piece': 2, 'conversation': 1, 'save': 2, 'sequences': 1, 'later': 2, 'influence': 2, 'sixth': 1, 'exhausting': 1, 'drain': 1, 'aggregate': 1, 'accompanied': 1, 'gymnastics': 1, 'driver': 1, 'strategic': 6, 'managers': 1, 'coaches': 1, 'individualized': 1, 'approach': 3, 'yield': 2, 'evidence': 7, 'wash': 2, 'war': 15, '17': 2, 'emergency': 18, '14th': 1, 'combination': 1, 'pinch': 2, 'injury': 1, 'hey': 1, 'spot': 16, 'proudly': 1, 'sent': 1, 'naked': 1, 'eye': 1, 'positions': 11, 'result': 3, 'quirk': 1, 'weirdbaseball': 1, 'implications': 1, 'assumed': 1, 'head': 2, 'chair': 1, 'discussions': 1, 'evaluated': 1, 'deserves': 1, 'scrutiny': 2, 'assumes': 1, 'infinitely': 1, 'fungible': 2, 'designed': 1, 'famously': 1, 'conceptualizes': 1, 'above': 8, 'bench': 8, 'triple': 2, 'waiver': 1, 'wire': 1, 'baseline': 2, 'mike': 3, 'trout': 10, 'angels': 6, 'production': 4, 'absence': 1, 'semi': 1, 'competent': 1, 'reality': 2, 'capable': 1, 'task': 1, 'stand': 2, 'strangely': 1, 'sidesteps': 1, 'assumption': 6, 'roughly': 3, 'penalty': 5, 'shifting': 2, 'harder': 1, 'positional': 1, 'adjustments': 2, 'forms': 1, 'backbone': 2, 'catcher': 7, 'dreadful': 1, 'catching': 10, 'involves': 1, 'skills': 2, 'specific': 7, 'allow': 1, 'wing': 1, 'saw': 3, 'applies': 1, 'diamond': 3, 'varying': 1, 'degrees': 1, 'severe': 1, 'feedback': 1, 'critiques': 1, 'commenter': 1, 'selected': 3, 'poor': 1, 'performance': 4, 'jitters': 1, 'adjustment': 5, 'perform': 1, '1993': 1, '2017': 11, '700': 5, 'opponent': 4, '36': 4, '150': 1, 'full': 31, '400': 2, 'pa': 16, 'logging': 1, 'step': 1, 'historical': 1, 'debut': 1, 'cameo': 1, 'repeated': 1, 'capped': 1, '180': 3, 'performed': 1, 'stages': 1, 'brought': 3, 'increments': 1, 'regularly': 1, 'acclimated': 1, 'reach': 1, 'success': 3, '1990s': 1, 'hewn': 1, 'wiggle': 1, 'interpretations': 1, 'large': 2, 'noise': 1, 'tends': 1, 'cancel': 1, 'basemen': 9, 'track': 1, 'direction': 1, 'credited': 1, 'listed': 1, 'grounder': 1, 'debited': 1, 'greatest': 1, 'metric': 2, 'resulted': 1, 'successfully': 1, '73': 4, '1b': 3, 'eventual': 5, 'focusing': 1, 'range': 5, '74': 3, '72': 2, 'timers': 9, 'equipped': 1, 'fill': 1, 'ins': 1, 'became': 2, 'development': 2, 'graph': 1, 'shows': 2, 'dip': 1, '25': 2, 'largely': 1, 'formal': 1, 'fitted': 1, '800': 1, '733rd': 1, '458th': 1, 'predicted': 1, 'solved': 1, 'expressed': 1, 'holds': 1, 'steady': 2, 'zero': 1, 'beat': 6, 'pattern': 1, 'fewer': 2, 'caught': 1, 'repeat': 1, 'exercise': 1, 'seemed': 2, 'struggle': 1, '96': 4, 'trouble': 2, 'throws': 1, 'reps': 3, 'poorly': 1, 'stuck': 1, 'selection': 1, 'bias': 1, 'month': 3, 'surprise': 1, 'weighted': 2, 'april': 1, 'calendar': 1, 'picked': 2, 'closely': 1, 'resembled': 1, 'opened': 1, 'filling': 1, 'gaps': 1, 'approached': 2, 'previous': 3, 'move': 7, 'leisure': 1, 'heat': 1, 'succeeding': 1, 'spent': 4, 'offseason': 5, 'preparing': 1, 'role': 1, 'opening': 1, 'training': 1, 'unprepared': 1, 'switching': 1, 'presents': 1, 'pessimistic': 1, 'introduces': 1, 'biases': 1, 'trend': 1, 'optimistic': 1, 'needing': 1, 'impact': 3, '68': 6, '70': 1, '7': 17, '97': 2, '31': 1, '65': 2, '60': 2, '51': 3, '67': 4, 'initial': 1, 'fluke': 2, '78': 2, '79': 1, '81': 1, '94': 1, '93': 1, '91': 2, '46': 1, '42': 1, 'decrease': 2, '23': 4, 'benefit': 1, 'prepare': 3, 'chunk': 1, 'speed': 1, 'report': 1, 'stick': 1, 'extremely': 1, 'ability': 4, 'telling': 1, 'converting': 1, 'shortstops': 3, 'forced': 1, 'e': 3, 'g': 1, 'cubs': 1, 'addison': 1, 'starlin': 1, 'castro': 1, 'buy': 2, 'desired': 1, 'train': 1, 'qualified': 2, 'transition': 1, 'acclimation': 1, 'practicalities': 1, 'imagine': 2, 'playoff': 1, 'aspirations': 1, 'learning': 1, 'digit': 1, 'aiming': 1, 'write': 3, 'lineup': 1, 'card': 1, 'fellow': 1, 'magically': 1, 'growing': 2, 'pains': 1, 'machine': 1, 'transactional': 1, 'friction': 2, 'luxury': 1, 'caring': 1, 'rebuilding': 1, 'pull': 4, 'sorts': 1, 'gambits': 1, 'contenders': 1, 'reporting': 1, 'converts': 2, '84': 1, '38': 1, 'stopping': 2, 'advancing': 2, '64': 1, '63': 2, 'beginner': 1, 'drive': 3, 'dropping': 1, '14': 4, '88': 2, '19': 2, '49': 2, '48': 1, '45': 1, 'kinds': 1, 'regular': 1, 'ron': 2, 'washington': 2, 'pinning': 1, 'differs': 1, 'degree': 1, 'difficulty': 1, 'assume': 1, 'moves': 1, 'continue': 2, 'easier': 2, 'ease': 1, 'appear': 2, 'moving': 2, 'character': 1, 'incredibly': 2, 'overcome': 1, 'accurately': 1, 'candidate': 2, 'replace': 1, 'ditch': 1, 'catchers': 1, 'replaceable': 1, 'carry': 1, 'utility': 1, 'infielder': 3, 'effectively': 1, 'meantime': 1, 'contending': 1, 'lesser': 1, 'tomorrow': 1, 'construct': 1, 'pool': 1, 'determine': 1, 'replacement': 12, 'shifted': 8, 'prove': 1, 'shuffle': 1, 'requiring': 1, 'proof': 2, 'handling': 1, 'closer': 1, 'current': 2, 'adjust': 1, 'x': 2, 'exception': 1, 'subset': 1, 'oversells': 1, 'friendlier': 1, 'transitioning': 1, 'lumps': 1, 'ish': 1, 'swear': 1, 'extended': 1, 'support': 6, 'loud': 1, 'please': 1, 'switch': 1, 'tools': 1, 'succeed': 1, 'knot': 1, 'seriously': 1, 'unfiltered': 1, 'march': 1, '2013': 1, 'pages': 1, 'globe': 1, 'veteran': 1, 'reporter': 1, 'bob': 1, 'ryan': 4, 'declared': 1, 'unusual': 1, 'declaration': 1, 'belief': 2, 'rp': 1, 'warp': 3, 'judgment': 1, 'argued': 1, 'comparison': 1, 'currently': 3, 'constituted': 1, 'opinion': 1, 'therefore': 1, 'arbitrary': 1, 'unreliable': 1, 'told': 2, 'mr': 2, 'misunderstanding': 1, 'mistaking': 1, 'abstraction': 2, 'perfectly': 3, 'logical': 1, 'calculation': 1, 'straight': 1, 'seeks': 1, 'vanished': 2, 'earth': 1, 'promoting': 1, 'bringing': 1, 'minors': 3, 'signing': 1, 'scrap': 4, 'heap': 4, 'compare': 5, 'supplies': 1, 'correctly': 1, 'exploits': 1, 'values': 1, 'includes': 1, 'baserunnng': 1, 'contributions': 1, 'hitters': 8, 'contributed': 1, 'billion': 1, 'okay': 1, 'slightly': 5, 'smaller': 1, 'led': 1, 'cf': 1, 'primarily': 1, 'collectively': 1, 'disappeared': 1, 'peter': 1, 'bourjos': 1, 'torii': 1, 'hunter': 1, 'blame': 3, 'presence': 1, 'backup': 3, 'provided': 1, 'larry': 1, 'gold': 1, 'assess': 1, 'composite': 1, 'sketch': 1, 'backups': 1, 'thin': 1, 'common': 1, 'beneficial': 1, 'disadvantages': 1, 'weight': 1, 'defines': 1, 'inherent': 1, 'scientist': 2, 'consider': 4, 'myself': 1, 'hearing': 1, 'fall': 2, 'live': 2, 'shift': 69, '13': 3, 'according': 1, 'recent': 1, 'reports': 2, 'banning': 6, 'sigh': 1, 'enforce': 1, 'positioning': 2, 'rules': 4, 'restricted': 2, 'foul': 2, 'territory': 2, 'claim': 1, 'restricting': 1, 'violates': 3, 'purity': 1, 'proposing': 1, 'draw': 1, 'circles': 1, 'mandate': 1, 'stands': 1, 'assigned': 1, 'policy': 1, 'imaginary': 4, 'breaking': 4, 'far': 5, 'releases': 1, 'react': 1, 'reverse': 1, 'motion': 1, 'strategy': 7, 'useless': 1, 'trying': 6, 'steal': 1, 'longingly': 1, 'balk': 1, 'discretion': 1, 'umpire': 2, 'style': 1, 'offense': 6, 'replay': 1, 'review': 1, 'sounds': 1, 'ban': 3, 'penalties': 1, 'teeth': 1, 'storming': 1, 'swings': 1, 'calls': 3, 'illegal': 1, 'formation': 2, 'decide': 1, 'crossing': 1, 'acronymati': 1, 'partial': 2, 'info': 1, 'solutions': 1, 'mlbam': 1, 'statxast': 1, 'research': 2, 'shifts': 3, 'defensing': 1, 'batted': 1, 'increasing': 3, 'associated': 1, 'neuter': 1, 'tactical': 1, 'feature': 1, 'bug': 1, 'complaining': 3, 'increase': 2, 'extreme': 1, 'discovered': 1, 'undid': 1, 'batters': 5, 'bunch': 1, 'decreases': 1, 'strikeouts': 1, 'events': 1, 'triples': 1, 'homers': 2, 'wiped': 1, 'gains': 1, 'saved': 1, 'biggest': 4, 'culprit': 1, 'staying': 1, 'strike': 2, 'suggested': 1, 'fading': 1, 'k': 2, '54': 1, '2016': 10, '53': 1, '52': 2, 'hole': 1, 'fixing': 1, 'itself': 5, 'check': 2, 'issued': 1, 'controlling': 2, 'weird': 5, 'sum': 1, 'following': 3, '1326': 1, '1460': 1, '1889': 1, '2157': 1, '1881': 1, '2120': 1, '2400': 1, '2656': 1, 'comfortable': 1, 'expectations': 2, 'obp': 2, '331': 3, '325': 1, '006': 2, '329': 1, '332': 1, '003': 1, '336': 1, '005': 1, '324': 1, 'dirty': 1, 'secret': 1, 'random': 1, 'changes': 1, 'produced': 3, 'suppressing': 1, 'babip': 10, 'leap': 1, 'efficiently': 1, 'gb': 2, '245': 1, '205': 1, '040': 1, '247': 1, '227': 1, '020': 1, '244': 1, '217': 2, '024': 1, '248': 1, '021': 1, 'appearing': 1, 'frustrated': 1, 'agree': 1, '3246': 1, '3180': 1, '4865': 1, '4912': 1, '4609': 1, '4570': 1, '5927': 1, '6171': 1, 'tend': 2, 'hooray': 1, 'glove': 2, 'boo': 1, 'fb': 3, 'tended': 1, 'quality': 1, 'increased': 1, 'decreased': 1, 'fluctuation': 1, 'changed': 1, 'driving': 1, '2940': 1, '2878': 1, '4004': 1, '4007': 1, '3370': 1, '3473': 1, '4516': 1, '4385': 1, 'cost': 2, '600s': 1, '100s': 1, 'overall': 4, 'offensive': 1, 'involved': 1, 'pro': 1, 'rated': 1, 'analysis': 1, 'relevant': 1, '69': 2, '104': 1, '163': 1, 'wide': 2, 'controversy': 1, 'slight': 2, 'plausible': 1, 'factors': 1, 'wiggled': 1, 'randomly': 1, 'favor': 1, 'saucier': 1, 'explanation': 1, 'progressively': 1, 'implemented': 1, 'bailed': 1, 'implement': 1, 'helping': 1, 'torpedoed': 1, 'benefits': 1, 'hasn': 1, 'triumph': 1, 'comedy': 1, 'errors': 1, 'undeniable': 1, 'subtracts': 1, 'handful': 1, 'blamed': 1, 'encouraging': 1, 'brand': 1, 'rates': 1, 'significantly': 1, 'remedy': 1, 'sight': 1, 'interesting': 1, 'action': 3, 'normalize': 1, 'ended': 1, 'basically': 1, '66': 1, 'eliminating': 1, 'ah': 1, 'wherever': 1, '301': 1, '283': 1, '018': 1, '304': 1, '290': 2, '016': 1, '280': 2, '010': 1, '297': 1, '017': 1, 'depress': 2, 'supposed': 2, 'curating': 1, 'relatively': 1, 'theoretically': 1, 'organically': 1, 'bunt': 5, 'link': 1, 'gorymath': 2, 'abbreviate': 1, 'statements': 1, 'bunting': 5, 'attempts': 2, 'missed': 1, 'novice': 1, 'experienced': 1, 'bunter': 1, 'guarantee': 1, 'whiff': 1, 'tap': 1, 'aim': 1, 'grounded': 1, 'fashioned': 1, 'conceding': 1, 'margin': 1, 'greatly': 1, 'valuable': 2, 'leaves': 1, 'excitement': 1, 'seek': 1, 'fun': 1, 'wondering': 1, 'chris': 1, 'davis': 1, 'drop': 1, 'narrator': 1, 'unwritten': 2, 'balance': 1, 'affects': 1, 'historically': 1, 'speaking': 2, 'spark': 1, 'protest': 2, 'platonic': 1, 'heck': 1, 'robs': 1, 'thatt': 1, 'lines': 1, 'giant': 1, 'buzzkill': 1, 'hurts': 1, 'jayson': 1, 'stark': 1, 'athletic': 1, 'broke': 1, 'news': 1, 'joey': 1, 'gallo': 1, 'tweeted': 1, 'christmas': 1, 'carpenter': 1, 'replied': 1, 'north': 1, 'pole': 2, 'santa': 1, 'unfairness': 1, 'sting': 1, 'targets': 1, 'quote': 2, 'reward': 1, 'baggage': 1, 'majors': 1, 'entirely': 1, 'required': 1, 'restraint': 1, 'violent': 1, 'obviously': 1, 'public': 3, 'failure': 1, 'stacked': 1, 'dud': 1, 'chasing': 1, 'likes': 1, 'legal': 1, 'banned': 1, 'packed': 1, 'friendly': 2, 'helps': 1, 'scientific': 1, 'endeavor': 1, 'peak': 1, 'efficiency': 1, 'artistic': 1, 'expression': 1, 'rare': 1, 'sides': 1, 'contrast': 1, 'buttons': 1, 'commissioner': 1, 'manfred': 1, 'reading': 1, 'envy': 1, 'encourage': 1, 'precedent': 1, 'judging': 1, 'sanguine': 1, 'dangerous': 1, 'clamping': 1, 'uncomfortable': 2, 'lobby': 1, 'rapidly': 1, 'approaching': 1, 'truth': 1, 'underpin': 1, 'objections': 1, 'opener': 1, 'shut': 1, 'museum': 1, 'quaint': 1, 'olde': 1, 'thyme': 1, 'fix': 1, 'term': 1, 'gain': 1, 'harm': 3, 'vote': 34, 'strategically': 3, 'hall': 24, 'fame': 17, 'mutual': 1, 'agreement': 1, 'employees': 1, 'vacation': 1, 'enshrining': 1, 'ranks': 1, 'immortals': 1, 'arguments': 2, 'merits': 2, 'inclusion': 1, 'select': 1, 'voters': 6, 'checkmarks': 1, 'ballots': 6, 'eligible': 2, 'bachelors': 1, 'swiping': 2, 'tinder': 1, 'votes': 9, 'pete': 1, 'rose': 1, 'lately': 1, 'rise': 1, 'writers': 7, 'reveal': 1, 'discuss': 1, 'reasoning': 1, 'bbwaa': 1, 'revealed': 1, 'follow': 2, 'thanks': 1, 'magic': 1, 'internet': 1, 'triaged': 1, 'list': 3, 'allowable': 1, 'espn': 1, 'writer': 3, 'buster': 1, 'olney': 7, 'reported': 1, 'abstaining': 2, 'determining': 1, 'casting': 1, 'ballot': 16, 'considers': 1, 'worthy': 3, 'induction': 2, 'mentions': 1, 'mussina': 1, 'curt': 1, 'schilling': 1, 'tim': 3, 'raines': 20, 'checked': 1, 'submitted': 2, 'removing': 1, 'denominator': 1, 'respected': 1, 'smart': 1, 'help': 1, 'cause': 4, 'agonizing': 1, 'due': 1, '31st': 1, 'festivus': 1, 'taken': 1, 'pulled': 1, 'muscles': 1, 'feats': 1, 'strength': 1, 'healed': 1, 'voter': 1, 'wants': 1, 'pet': 1, 'alan': 1, 'trammell': 1, 'gently': 1, 'deserving': 1, '12th': 2, 'buddy': 1, 'craig': 1, 'biggio': 1, 'kick': 1, 'blank': 1, 'withholding': 2, 'unbeknownst': 1, 'colorado': 1, 'limit': 5, 'submitting': 1, 'without': 1, 'feelings': 1, 'abstain': 1, 'choices': 1, 'define': 1, 'gaming': 1, 'system': 2, 'psychologist': 1, 'funny': 1, 'uptight': 1, 'commonly': 1, 'balloting': 1, 'differing': 1, 'sincere': 1, 'explaining': 1, 'triaging': 1, 'voted': 1, 'y': 2, 'z': 1, 'famers': 2, 'eighth': 1, '10th': 1, 'rich': 1, 'aurillia': 2, 'eligibility': 1, 'cycle': 1, 'overboard': 1, 'pedro': 7, 'martinez': 1, 'randy': 2, 'johnson': 1, 'baffle': 1, 'smoltz': 2, 'stone': 1, 'cold': 1, 'locks': 1, 'logic': 3, 'abstention': 2, 'push': 1, 'cooperstown': 1, 'pushes': 1, 'lack': 1, 'accomplishes': 1, 'goals': 1, 'solve': 1, 'triage': 1, 'applying': 1, 'principle': 1, 'retire': 1, 'obstacle': 1, 'cool': 1, 'syndrome': 1, 'wasted': 1, 'minute': 1, 'roger': 1, 'clemens': 6, 'barry': 1, 'bonds': 6, 'recommend': 1, 'penalize': 1, 'alleged': 2, 'misdeeds': 1, 'pointless': 1, 'tyler': 1, 'kepner': 1, 'york': 1, 'tmes': 1, 'summed': 1, 'suspected': 2, 'ped': 5, 'users': 2, 'allegations': 1, 'waltzed': 1, '35': 1, 'melting': 1, 'hearts': 1, 'stance': 1, 'bumping': 1, 'tweener': 1, 'electorate': 1, 'forgive': 2, 'existence': 1, 'parachute': 1, 'pants': 1, 'downside': 1, 'statement': 1, 'tolerant': 1, 'modern': 1, 'embrace': 1, 'smallhall': 4, 'concept': 1, 'psychology': 1, 'flynn': 1, 'decades': 1, 'scores': 1, 'standardized': 1, 'iq': 2, 'tests': 2, '100': 1, 'written': 1, 'smarter': 1, 'subconsciously': 1, 'writing': 1, 'similar': 1, 'doubt': 1, 'fastballs': 1, 'powerful': 1, 'mascots': 1, 'weirder': 1, 'evaluate': 1, 'exaggerated': 1, 'tendency': 1, 'twitter': 1, 'pizzacutter4': 1, 'tag': 1, 'preference': 1, 'aesthetic': 1, 'starters': 1, 'spaces': 1, 'fault': 1, 'advocate': 1, 'kris': 1, 'benson': 1, 'err': 1, 'exclusive': 1, 'truly': 1, 'marks': 1, 'celebres': 1, 'gave': 1, 'surefire': 1, 'supported': 1, 'inclined': 1, 'followed': 1, 'knocked': 1, 'prime': 1, 'laws': 1, 'mathematics': 1, 'concerned': 1, 'negate': 1}\n"
     ]
    }
   ],
   "source": [
    "#2. Most common words after removing stop words\n",
    "#3. Word cloud \n",
    "#4. Stem words \n",
    "#5. Most common words/Word cloud\n",
    "#6. TF-IDF vectorize\n",
    "#7. Most common words\n"
   ]
  }
 ],
 "metadata": {
  "kernelspec": {
   "display_name": "Python 3",
   "language": "python",
   "name": "python3"
  },
  "language_info": {
   "codemirror_mode": {
    "name": "ipython",
    "version": 3
   },
   "file_extension": ".py",
   "mimetype": "text/x-python",
   "name": "python",
   "nbconvert_exporter": "python",
   "pygments_lexer": "ipython3",
   "version": "3.7.2"
  }
 },
 "nbformat": 4,
 "nbformat_minor": 2
}
