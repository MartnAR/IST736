{
 "cells": [
  {
   "cell_type": "markdown",
   "metadata": {},
   "source": [
    "# IST736 Text Mining\n",
    "## Homework 5\n",
    "### Martin Alonso\n",
    "### 2019-02-13"
   ]
  },
  {
   "cell_type": "markdown",
   "metadata": {},
   "source": [
    "#### Objectives\n",
    "For this assignment, I have asked five friends to review 200 tweets on Artificial Intelligence and classify the sentiment of the tweet in one of either three options: positive, neutral, or negative. The objective is to understand how each person subjectively identifies the tweet and then determine how the group scores the sentiment of each tweet. I'll then compare how close the users' tags where using the Cohen-Kappa score, determining how much agreement there was between each tagger. "
   ]
  },
  {
   "cell_type": "markdown",
   "metadata": {},
   "source": [
    "#### Analysis\n",
    "\n",
    "##### Loading the packages and creating the corpus\n",
    "We'll first load the packages that will be used (pandas, numpy, and sklearn), in order to manipulate the data and load the Cohen-Kappa metric. Then, before passing the sentiment arrays through the metric, we'll look at the distributions of each scorer: how many tweets were classified as positive, negative, and neutral."
   ]
  },
  {
   "cell_type": "code",
   "execution_count": 12,
   "metadata": {},
   "outputs": [],
   "source": [
    "# Load required packages\n",
    "import pandas as pd\n",
    "import numpy as np \n",
    "from sklearn.metrics import cohen_kappa_score"
   ]
  },
  {
   "cell_type": "code",
   "execution_count": 13,
   "metadata": {},
   "outputs": [
    {
     "data": {
      "text/html": [
       "<div>\n",
       "<style scoped>\n",
       "    .dataframe tbody tr th:only-of-type {\n",
       "        vertical-align: middle;\n",
       "    }\n",
       "\n",
       "    .dataframe tbody tr th {\n",
       "        vertical-align: top;\n",
       "    }\n",
       "\n",
       "    .dataframe thead th {\n",
       "        text-align: right;\n",
       "    }\n",
       "</style>\n",
       "<table border=\"1\" class=\"dataframe\">\n",
       "  <thead>\n",
       "    <tr style=\"text-align: right;\">\n",
       "      <th></th>\n",
       "      <th>id</th>\n",
       "      <th>label</th>\n",
       "      <th>user</th>\n",
       "      <th>timestamp</th>\n",
       "      <th>text</th>\n",
       "      <th>reviewer1</th>\n",
       "      <th>reviewer2</th>\n",
       "      <th>reviewer3</th>\n",
       "      <th>reviewer4</th>\n",
       "      <th>reviewer5</th>\n",
       "    </tr>\n",
       "  </thead>\n",
       "  <tbody>\n",
       "    <tr>\n",
       "      <th>0</th>\n",
       "      <td>1</td>\n",
       "      <td>0</td>\n",
       "      <td>_ItsJustChris</td>\n",
       "      <td>12/26/2011 22:44</td>\n",
       "      <td>Artificial Intelligence Is Going To Be The End...</td>\n",
       "      <td>neg</td>\n",
       "      <td>neg</td>\n",
       "      <td>neg</td>\n",
       "      <td>neg</td>\n",
       "      <td>neg</td>\n",
       "    </tr>\n",
       "    <tr>\n",
       "      <th>1</th>\n",
       "      <td>47</td>\n",
       "      <td>0</td>\n",
       "      <td>AnonTechOps</td>\n",
       "      <td>1/14/2019 23:20</td>\n",
       "      <td>The Weaponization Of Artificial Intelligence #...</td>\n",
       "      <td>neg</td>\n",
       "      <td>neg</td>\n",
       "      <td>neg</td>\n",
       "      <td>neg</td>\n",
       "      <td>neg</td>\n",
       "    </tr>\n",
       "    <tr>\n",
       "      <th>2</th>\n",
       "      <td>53</td>\n",
       "      <td>0</td>\n",
       "      <td>Arnold_Haine</td>\n",
       "      <td>1/14/2019 23:25</td>\n",
       "      <td>The Weaponization Of Artificial Intelligence #...</td>\n",
       "      <td>neg</td>\n",
       "      <td>neg</td>\n",
       "      <td>neg</td>\n",
       "      <td>neg</td>\n",
       "      <td>neg</td>\n",
       "    </tr>\n",
       "    <tr>\n",
       "      <th>3</th>\n",
       "      <td>86</td>\n",
       "      <td>0</td>\n",
       "      <td>BitHack3r</td>\n",
       "      <td>5/6/2011 18:53</td>\n",
       "      <td>@TheChameleon84 wow. I hate Artificial Intelli...</td>\n",
       "      <td>neg</td>\n",
       "      <td>neu</td>\n",
       "      <td>neu</td>\n",
       "      <td>neg</td>\n",
       "      <td>neg</td>\n",
       "    </tr>\n",
       "    <tr>\n",
       "      <th>4</th>\n",
       "      <td>103</td>\n",
       "      <td>0</td>\n",
       "      <td>brittneyinc</td>\n",
       "      <td>7/19/2014 21:50</td>\n",
       "      <td>this artificial intelligence performance kind ...</td>\n",
       "      <td>neg</td>\n",
       "      <td>neg</td>\n",
       "      <td>neg</td>\n",
       "      <td>neg</td>\n",
       "      <td>neu</td>\n",
       "    </tr>\n",
       "  </tbody>\n",
       "</table>\n",
       "</div>"
      ],
      "text/plain": [
       "    id  label           user         timestamp  \\\n",
       "0    1      0  _ItsJustChris  12/26/2011 22:44   \n",
       "1   47      0    AnonTechOps   1/14/2019 23:20   \n",
       "2   53      0   Arnold_Haine   1/14/2019 23:25   \n",
       "3   86      0      BitHack3r    5/6/2011 18:53   \n",
       "4  103      0    brittneyinc   7/19/2014 21:50   \n",
       "\n",
       "                                                text reviewer1 reviewer2  \\\n",
       "0  Artificial Intelligence Is Going To Be The End...       neg       neg   \n",
       "1  The Weaponization Of Artificial Intelligence #...       neg       neg   \n",
       "2  The Weaponization Of Artificial Intelligence #...       neg       neg   \n",
       "3  @TheChameleon84 wow. I hate Artificial Intelli...       neg       neu   \n",
       "4  this artificial intelligence performance kind ...       neg       neg   \n",
       "\n",
       "  reviewer3 reviewer4 reviewer5  \n",
       "0       neg       neg       neg  \n",
       "1       neg       neg       neg  \n",
       "2       neg       neg       neg  \n",
       "3       neu       neg       neg  \n",
       "4       neg       neg       neu  "
      ]
     },
     "execution_count": 13,
     "metadata": {},
     "output_type": "execute_result"
    }
   ],
   "source": [
    "# Load data\n",
    "df = pd.read_csv('ai_tweets_amz.csv')\n",
    "df.head()"
   ]
  },
  {
   "cell_type": "markdown",
   "metadata": {},
   "source": [
    "The data has been loaded correctly and we can see that there are five columns that show each reviewer's sentiment of the tweet.  \n",
    "Let's compare how many tweets each reviewer classified as positive, negative, or neutral. "
   ]
  },
  {
   "cell_type": "code",
   "execution_count": 60,
   "metadata": {},
   "outputs": [
    {
     "name": "stdout",
     "output_type": "stream",
     "text": [
      "           neg  neu  pos\n",
      "reviewer1   44   93   64\n",
      "reviewer2   43   87   71\n",
      "reviewer3   42   89   70\n",
      "reviewer4   49   86   66\n",
      "reviewer5   45   91   65\n"
     ]
    }
   ],
   "source": [
    "# Select the five reviewer columns. \n",
    "cols = ['reviewer1', 'reviewer2', 'reviewer3', 'reviewer4', 'reviewer5']\n",
    "reviewers = df[cols]\n",
    "\n",
    "# Initiate an empty array and count sentiment for each reviewer. \n",
    "reviews = []\n",
    "\n",
    "for i in reviewers[cols]:\n",
    "    sentiment = reviewers.groupby(i)[i].count()\n",
    "    reviews.append(sentiment)\n",
    "\n",
    "# Convert results to data frame; pass cols to index for easier identification; rename columns to neg, neu, and pos. \n",
    "results = pd.DataFrame(np.array(reviews))\n",
    "results.set_index(pd.Index(cols), inplace=True)\n",
    "results.columns = ['neg', 'neu', 'pos']\n",
    "print(results)"
   ]
  },
  {
   "cell_type": "markdown",
   "metadata": {},
   "source": [
    "Overall, it appears that the taggers classified the tweets very similarly. There is no number that pops out in any of the columns, though we can see that reviewers 2 and 3 are a bit more positive, while reviewer 4 is the most negative.  \n",
    "Let's check how they score on the Cohen-Kappa test."
   ]
  },
  {
   "cell_type": "code",
   "execution_count": 75,
   "metadata": {},
   "outputs": [],
   "source": [
    "# Initiate an empty array to store Cohen-Kappa test results. \n",
    "ck_results = []\n",
    "\n",
    "# Loop over each reviewer and compute the Cohen-Kappa score against each reviewer - including themselves. \n",
    "# This will insure we have a 5 by 5 matrix. \n",
    "\n",
    "for i in reviewers[cols]:\n",
    "    reviewer_compared = reviewers\n",
    "    for j in reviewer_compared: \n",
    "        result = cohen_kappa_score(reviewers[i], reviewer_compared[j])\n",
    "        ck_results.append(result)\n",
    "        \n",
    "# Build a pandas DataFrame with the results. Change the names and index to identify the reviewers. \n",
    "ck_results = pd.DataFrame(np.array(ck_results).reshape(-1, 5))\n",
    "ck_results.set_index(pd.Index(cols), inplace=True)\n",
    "ck_results.columns = cols"
   ]
  },
  {
   "cell_type": "markdown",
   "metadata": {},
   "source": [
    "Since all reviewers were set to score against each other, and themselves, we'll have a 5 by 5 matrix that will include the agreement score between a reviewer and himself (therefore having a score of 1.) Furthermore, we'll also have two scores for each reviewer pair. To avoid this, we'll create a new (final) data frame that drops the observations above and on the diagonal. "
   ]
  },
  {
   "cell_type": "code",
   "execution_count": 76,
   "metadata": {},
   "outputs": [],
   "source": [
    "final_results = ck_results.mask(np.triu(np.ones(ck_results.shape, dtype=np.bool_)))"
   ]
  },
  {
   "cell_type": "markdown",
   "metadata": {},
   "source": [
    "#### Results\n",
    "Even though the initial exploration showed that the reviewers had almost the same number of sentiment tags between them, the results of the Cohen-Kappa test were not as high as expected. "
   ]
  },
  {
   "cell_type": "code",
   "execution_count": 77,
   "metadata": {},
   "outputs": [
    {
     "name": "stdout",
     "output_type": "stream",
     "text": [
      "           reviewer1  reviewer2  reviewer3  reviewer4  reviewer5\n",
      "reviewer1        NaN        NaN        NaN        NaN        NaN\n",
      "reviewer2   0.627116        NaN        NaN        NaN        NaN\n",
      "reviewer3   0.454567   0.440847        NaN        NaN        NaN\n",
      "reviewer4   0.482496   0.422989   0.406306        NaN        NaN\n",
      "reviewer5   0.540313   0.581476   0.417098     0.3449        NaN\n"
     ]
    }
   ],
   "source": [
    "print(final_results)"
   ]
  },
  {
   "cell_type": "markdown",
   "metadata": {},
   "source": [
    "Reviewer 1 and 2 seemed to agree the most among themselves on the sentiment of the tweets, even though reviewer 1 was more neutral and reviewer 2 was more positive, having substantial agreement among them.  \n",
    "On the other hand, reviewers 4 and 5, who both seemed to be more inclined towards the same sentiment count, were given the lowest Cohen-Kappa score, fairly agreeing. "
   ]
  },
  {
   "cell_type": "markdown",
   "metadata": {},
   "source": [
    "#### Conclusions\n",
    "Given the overall results, there is moderate agreement among the five taggers on the overall sentiment of the tweets. Given that, personally, most of the tweets read as neutral, I am surprised that there wasn't that much agreement among the taggers.  Perhaps if the tweet pool were larger or I had asked more taggers to help with the experiment, we would see a higher agreement level.  \n",
    "I would also like to add that, given that Cohen-Kappa can only score two arrays at once, it is very hard to determine agreement among five different taggers. Perhaps using another metric, like a Fleiss or Multi-Cappa metric, would give different results as to the overall sentiment agreement between the taggers. "
   ]
  }
 ],
 "metadata": {
  "kernelspec": {
   "display_name": "Python 3",
   "language": "python",
   "name": "python3"
  },
  "language_info": {
   "codemirror_mode": {
    "name": "ipython",
    "version": 3
   },
   "file_extension": ".py",
   "mimetype": "text/x-python",
   "name": "python",
   "nbconvert_exporter": "python",
   "pygments_lexer": "ipython3",
   "version": "3.6.6"
  }
 },
 "nbformat": 4,
 "nbformat_minor": 2
}
