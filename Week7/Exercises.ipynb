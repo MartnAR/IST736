{
 "cells": [
  {
   "cell_type": "markdown",
   "metadata": {},
   "source": [
    "# Week 7 \n",
    "\n",
    "## 3.2 Calculate cosine similarity"
   ]
  },
  {
   "cell_type": "code",
   "execution_count": 5,
   "metadata": {},
   "outputs": [],
   "source": [
    "# Import cosine similarity\n",
    "from sklearn.metrics.pairwise import cosine_similarity\n",
    "from sklearn.feature_extraction.text import TfidfVectorizer, CountVectorizer\n",
    "from scipy import spatial\n",
    "\n",
    "# Docs to compare\n",
    "doc1 = 'book book music video video'\n",
    "doc2 = 'music music video'\n",
    "doc3 = 'book book video'\n",
    "\n",
    "corpus = [doc1, doc2, doc3]\n",
    "\n",
    "# TF-IDF vectorizer\n",
    "vectorizer = CountVectorizer(binary=False)\n",
    "\n",
    "# Transform docs \n",
    "vecs = vectorizer.fit_transform(corpus)"
   ]
  },
  {
   "cell_type": "code",
   "execution_count": 6,
   "metadata": {},
   "outputs": [
    {
     "name": "stdout",
     "output_type": "stream",
     "text": [
      "(3, 3)\n",
      "[[1.         0.59628479 0.89442719]]\n"
     ]
    }
   ],
   "source": [
    "# Initiate with count vectorizer\n",
    "print(vecs.shape)\n",
    "\n",
    "# Calculate similarity \n",
    "cos_sim = cosine_similarity(vecs[0], vecs)\n",
    "print(cos_sim)"
   ]
  },
  {
   "cell_type": "code",
   "execution_count": 7,
   "metadata": {},
   "outputs": [
    {
     "data": {
      "text/plain": [
       "array([[1.        , 0.5488896 , 0.89128418]])"
      ]
     },
     "execution_count": 7,
     "metadata": {},
     "output_type": "execute_result"
    }
   ],
   "source": [
    "# Initiate with tfidf vectorizer\n",
    "tfidf = TfidfVectorizer()\n",
    "\n",
    "tfvecs = tfidf.fit_transform(corpus)\n",
    "\n",
    "# Calculate similarity with tfidf\n",
    "cosine_similarity(tfvecs[0], tfvecs)"
   ]
  }
 ],
 "metadata": {
  "kernelspec": {
   "display_name": "Python 3",
   "language": "python",
   "name": "python3"
  },
  "language_info": {
   "codemirror_mode": {
    "name": "ipython",
    "version": 3
   },
   "file_extension": ".py",
   "mimetype": "text/x-python",
   "name": "python",
   "nbconvert_exporter": "python",
   "pygments_lexer": "ipython3",
   "version": "3.6.6"
  }
 },
 "nbformat": 4,
 "nbformat_minor": 2
}
